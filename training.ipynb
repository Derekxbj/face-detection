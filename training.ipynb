{
 "cells": [
  {
   "cell_type": "markdown",
   "metadata": {},
   "source": [
    "First, We need to import the required packages."
   ]
  },
  {
   "cell_type": "code",
   "execution_count": 1,
   "metadata": {},
   "outputs": [
    {
     "name": "stderr",
     "output_type": "stream",
     "text": [
      "Using TensorFlow backend.\n"
     ]
    }
   ],
   "source": [
    "%matplotlib inline\n",
    "from sklearn.preprocessing import LabelEncoder\n",
    "from sklearn.model_selection import train_test_split\n",
    "from sklearn.metrics import classification_report\n",
    "from keras.preprocessing.image import img_to_array\n",
    "from keras.utils import np_utils\n",
    "from CNN.nn.conv import LeNet\n",
    "from imutils import paths\n",
    "import matplotlib.pyplot as plt\n",
    "import numpy as np\n",
    "import argparse\n",
    "import imutils\n",
    "import cv2\n",
    "import os"
   ]
  },
  {
   "cell_type": "markdown",
   "metadata": {},
   "source": [
    "Then, we will initialize the data and labels"
   ]
  },
  {
   "cell_type": "code",
   "execution_count": 2,
   "metadata": {
    "collapsed": true
   },
   "outputs": [],
   "source": [
    "data = []\n",
    "labels = []"
   ]
  },
  {
   "cell_type": "markdown",
   "metadata": {},
   "source": [
    "The SMILES dataset consists of imgaes of faces that with either $smiling$ or $not \\ smiling^{[1]}$. There are 13,165 images in the dataset, and each image have a size of 64*64 pixels. 9,475 of these examples are $not \\ smiling$ and 3,690 belong to the $smiling$ class."
   ]
  },
  {
   "cell_type": "markdown",
   "metadata": {},
   "source": [
    "We loop over the input images.\n",
    "For each of these images:\n",
    "    1. Load it\n",
    "    2. Convert it to grayscale\n",
    "    3. Resize it to have a fixed input scale(28x28)\n",
    "    4. Convert the image to an array compatible with Keras\n",
    "    5. Add the image to the data\n",
    "    \n",
    "Then, we extract the labels from the imagePath and updating it in the labels list."
   ]
  },
  {
   "cell_type": "code",
   "execution_count": 3,
   "metadata": {
    "collapsed": true
   },
   "outputs": [],
   "source": [
    "for imagePath in sorted(list(paths.list_images(\"datasets/SMILEsmileD\"))):\n",
    "    \n",
    "    image = cv2.imread(imagePath)\n",
    "    image = cv2.cvtColor(image, cv2.COLOR_BGR2GRAY)\n",
    "    image = imutils.resize(image, width=28)\n",
    "    image = img_to_array(image)\n",
    "    data.append(image)\n",
    "\n",
    "    \n",
    "    label = imagePath.split(os.path.sep)[-3]\n",
    "    label = \"smiling\" if label == \"positives\" else \"not_smiling\"\n",
    "    labels.append(label)"
   ]
  },
  {
   "cell_type": "markdown",
   "metadata": {},
   "source": [
    "Then, we scale the raw pixel intensities to the range[0,1] and then apply one-hot encoding to the labels."
   ]
  },
  {
   "cell_type": "code",
   "execution_count": 4,
   "metadata": {
    "collapsed": true
   },
   "outputs": [],
   "source": [
    "data = np.array(data, dtype=\"float\") / 255.0\n",
    "labels = np.array(labels)"
   ]
  },
  {
   "cell_type": "markdown",
   "metadata": {},
   "source": [
    "We convert the labels from integers to vectors"
   ]
  },
  {
   "cell_type": "code",
   "execution_count": 5,
   "metadata": {
    "collapsed": true
   },
   "outputs": [],
   "source": [
    "le = LabelEncoder().fit(labels)\n",
    "labels = np_utils.to_categorical(le.transform(labels), 2)"
   ]
  },
  {
   "cell_type": "markdown",
   "metadata": {},
   "source": [
    "We compute the total number of examples per class. In our code, classTotals will be an array: [9475, 3690] for $\"not \\ smiling\"$ and $\"smiling\"$. \n",
    "\n",
    "Then we scale these totals to obtain the classWeight used to handle the class imbalance issue, which yields the array: [1, 2.56]. This weighting implies that our network will treat every instance of “smiling” as 2.56 instances of “not smiling” and helps solve the class imbalance issue by amplifying the per-instance loss by a larger weight when seeing “smiling” examples."
   ]
  },
  {
   "cell_type": "code",
   "execution_count": 6,
   "metadata": {
    "collapsed": true
   },
   "outputs": [],
   "source": [
    "classTotals = labels.sum(axis=0)\n",
    "classWeight = classTotals.max() / classTotals"
   ]
  },
  {
   "cell_type": "markdown",
   "metadata": {},
   "source": [
    "We partitioned our data into training and testing parts.\n",
    "We used 80% of the data for training and 20% for testing."
   ]
  },
  {
   "cell_type": "code",
   "execution_count": 7,
   "metadata": {
    "collapsed": true
   },
   "outputs": [],
   "source": [
    "(trainX, testX, trainY, testY) = train_test_split(data,\n",
    "    labels, test_size=0.20, stratify=labels, random_state=42)"
   ]
  },
  {
   "cell_type": "markdown",
   "metadata": {},
   "source": [
    "Finally, we trained the LetNet."
   ]
  },
  {
   "cell_type": "code",
   "execution_count": 8,
   "metadata": {},
   "outputs": [
    {
     "name": "stdout",
     "output_type": "stream",
     "text": [
      "[INFO] compiling model...\n",
      "[INFO] training network...\n",
      "Train on 10532 samples, validate on 2633 samples\n",
      "Epoch 1/15\n",
      "10532/10532 [==============================] - 20s - loss: 0.4171 - acc: 0.8062 - val_loss: 0.2868 - val_acc: 0.8804\n",
      "Epoch 2/15\n",
      "10532/10532 [==============================] - 19s - loss: 0.2709 - acc: 0.8904 - val_loss: 0.2689 - val_acc: 0.8872\n",
      "Epoch 3/15\n",
      "10532/10532 [==============================] - 20s - loss: 0.2464 - acc: 0.9017 - val_loss: 0.2550 - val_acc: 0.8994\n",
      "Epoch 4/15\n",
      "10532/10532 [==============================] - 19s - loss: 0.2300 - acc: 0.9089 - val_loss: 0.2646 - val_acc: 0.8899\n",
      "Epoch 5/15\n",
      "10532/10532 [==============================] - 19s - loss: 0.2168 - acc: 0.9165 - val_loss: 0.2318 - val_acc: 0.9088\n",
      "Epoch 6/15\n",
      "10532/10532 [==============================] - 21s - loss: 0.2023 - acc: 0.9209 - val_loss: 0.2446 - val_acc: 0.9047\n",
      "Epoch 7/15\n",
      "10532/10532 [==============================] - 20s - loss: 0.1905 - acc: 0.9267 - val_loss: 0.2391 - val_acc: 0.9062\n",
      "Epoch 8/15\n",
      "10532/10532 [==============================] - 23s - loss: 0.1820 - acc: 0.9324 - val_loss: 0.2352 - val_acc: 0.9051\n",
      "Epoch 9/15\n",
      "10532/10532 [==============================] - 23s - loss: 0.1753 - acc: 0.9326 - val_loss: 0.2357 - val_acc: 0.9081\n",
      "Epoch 10/15\n",
      "10532/10532 [==============================] - 22s - loss: 0.1630 - acc: 0.9374 - val_loss: 0.2302 - val_acc: 0.9149\n",
      "Epoch 11/15\n",
      "10532/10532 [==============================] - 21s - loss: 0.1531 - acc: 0.9422 - val_loss: 0.2287 - val_acc: 0.9149\n",
      "Epoch 12/15\n",
      "10532/10532 [==============================] - 21s - loss: 0.1483 - acc: 0.9435 - val_loss: 0.2559 - val_acc: 0.8997\n",
      "Epoch 13/15\n",
      "10532/10532 [==============================] - 20s - loss: 0.1346 - acc: 0.9467 - val_loss: 0.2588 - val_acc: 0.9001\n",
      "Epoch 14/15\n",
      "10532/10532 [==============================] - 20s - loss: 0.1230 - acc: 0.9535 - val_loss: 0.2438 - val_acc: 0.9066\n",
      "Epoch 15/15\n",
      "10532/10532 [==============================] - 20s - loss: 0.1127 - acc: 0.9591 - val_loss: 0.2561 - val_acc: 0.9077\n",
      "[INFO] evaluating network...\n",
      "             precision    recall  f1-score   support\n",
      "\n",
      "not_smiling       0.95      0.93      0.94      1895\n",
      "    smiling       0.82      0.86      0.84       738\n",
      "\n",
      "avg / total       0.91      0.91      0.91      2633\n",
      "\n",
      "[INFO] serializing network...\n"
     ]
    }
   ],
   "source": [
    "print(\"[INFO] compiling model...\")\n",
    "model = LeNet.build(width=28, height=28, depth=1, classes=2)\n",
    "model.compile(loss=\"binary_crossentropy\", optimizer=\"adam\",\n",
    "    metrics=[\"accuracy\"])\n",
    "\n",
    "print(\"[INFO] training network...\")\n",
    "H = model.fit(trainX, trainY, validation_data=(testX, testY),\n",
    "    class_weight=classWeight, batch_size=64, epochs=15, verbose=1)\n",
    "\n",
    "print(\"[INFO] evaluating network...\")\n",
    "predictions = model.predict(testX, batch_size=64)\n",
    "print(classification_report(testY.argmax(axis=1),\n",
    "    predictions.argmax(axis=1), target_names=le.classes_))\n",
    "\n",
    "print(\"[INFO] serializing network...\")\n",
    "model.save(\"output/lenet.hdf5\")"
   ]
  },
  {
   "cell_type": "markdown",
   "metadata": {},
   "source": [
    "Visualized the performance:"
   ]
  },
  {
   "cell_type": "code",
   "execution_count": 9,
   "metadata": {},
   "outputs": [
    {
     "data": {
      "image/png": "[encoded data removed]",
      "text/plain": [
       "<matplotlib.figure.Figure at 0x11afe0b38>"
      ]
     },
     "metadata": {},
     "output_type": "display_data"
    }
   ],
   "source": [
    "plt.style.use(\"ggplot\")\n",
    "plt.figure()\n",
    "plt.plot(np.arange(0, 15), H.history[\"loss\"], label=\"train_loss\")\n",
    "plt.plot(np.arange(0, 15), H.history[\"val_loss\"], label=\"val_loss\")\n",
    "plt.plot(np.arange(0, 15), H.history[\"acc\"], label=\"acc\")\n",
    "plt.plot(np.arange(0, 15), H.history[\"val_acc\"], label=\"val_acc\")\n",
    "plt.title(\"Training Loss and Accuracy\")\n",
    "plt.xlabel(\"Epoch #\")\n",
    "plt.ylabel(\"Loss/Accuracy\")\n",
    "plt.legend();"
   ]
  },
  {
   "cell_type": "markdown",
   "metadata": {
    "collapsed": true
   },
   "source": [
    "References: \n",
    "\n",
    "[1]Daniel Hromada. SMILEsmileD. https://github.com/hromi/SMILEsmileD.2010."
   ]
  }
 ],
 "metadata": {
  "kernelspec": {
   "display_name": "Python 3",
   "language": "python",
   "name": "python3"
  },
  "language_info": {
   "codemirror_mode": {
    "name": "ipython",
    "version": 3
   },
   "file_extension": ".py",
   "mimetype": "text/x-python",
   "name": "python",
   "nbconvert_exporter": "python",
   "pygments_lexer": "ipython3",
   "version": "3.6.3"
  }
 },
 "nbformat": 4,
 "nbformat_minor": 2
}
